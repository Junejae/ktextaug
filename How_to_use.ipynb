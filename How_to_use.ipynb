{
 "cells": [
  {
   "cell_type": "markdown",
   "id": "bottom-thumb",
   "metadata": {
    "Collapsed": "false",
    "id": "driven-broadcasting"
   },
   "source": [
    "# kTextAugmentation\n",
    "\n",
    "이 노트북은 kTextAugmentation 패키지를 사용하기 위한 예시입니다.\n",
    "documentation을 완성하기전까지는 이 노트북을 위주로 설명할 것 같습니다"
   ]
  },
  {
   "cell_type": "markdown",
   "id": "adolescent-programming",
   "metadata": {
    "Collapsed": "false",
    "id": "zf28LikAu_Iy"
   },
   "source": [
    "### 설치하기\n",
    "\n"
   ]
  },
  {
   "cell_type": "code",
   "execution_count": 1,
   "id": "certain-martial",
   "metadata": {
    "Collapsed": "false",
    "colab": {
     "base_uri": "https://localhost:8080/"
    },
    "executionInfo": {
     "elapsed": 174818,
     "status": "ok",
     "timestamp": 1618908742665,
     "user": {
      "displayName": "JinUk Cho",
      "photoUrl": "",
      "userId": "10000090644219567406"
     },
     "user_tz": -540
    },
    "id": "lLZtQNvHwkH9",
    "outputId": "b2a3b87b-c73d-4fe3-f5b3-23d3e7f59127"
   },
   "outputs": [
    {
     "name": "stderr",
     "output_type": "stream",
     "text": [
      "--2021-04-20 08:49:28--  https://docs.google.com/uc?export=download&confirm=d_uz&id=1A3bZzghyP1WvcSVPkf_YID1U5KPXDd5J\n",
      "Resolving docs.google.com (docs.google.com)... 142.250.97.101, 142.250.97.139, 142.250.97.102, ...\n",
      "Connecting to docs.google.com (docs.google.com)|142.250.97.101|:443... connected.\n",
      "HTTP request sent, awaiting response... 302 Moved Temporarily\n",
      "Location: https://doc-0k-28-docs.googleusercontent.com/docs/securesc/k3s41e5j9m84j9sldujhbltjen4r7og4/qp6fjced2k5f57fk6plqj5ruakq31vrj/1618908525000/10000090644219567406/04019969030829579991Z/1A3bZzghyP1WvcSVPkf_YID1U5KPXDd5J?e=download [following]\n",
      "--2021-04-20 08:49:28--  https://doc-0k-28-docs.googleusercontent.com/docs/securesc/k3s41e5j9m84j9sldujhbltjen4r7og4/qp6fjced2k5f57fk6plqj5ruakq31vrj/1618908525000/10000090644219567406/04019969030829579991Z/1A3bZzghyP1WvcSVPkf_YID1U5KPXDd5J?e=download\n",
      "Resolving doc-0k-28-docs.googleusercontent.com (doc-0k-28-docs.googleusercontent.com)... 173.194.217.132, 2607:f8b0:400c:c13::84\n",
      "Connecting to doc-0k-28-docs.googleusercontent.com (doc-0k-28-docs.googleusercontent.com)|173.194.217.132|:443... connected.\n",
      "HTTP request sent, awaiting response... 302 Found\n",
      "Location: https://docs.google.com/nonceSigner?nonce=05gdjcgv4sthg&continue=https://doc-0k-28-docs.googleusercontent.com/docs/securesc/k3s41e5j9m84j9sldujhbltjen4r7og4/qp6fjced2k5f57fk6plqj5ruakq31vrj/1618908525000/10000090644219567406/04019969030829579991Z/1A3bZzghyP1WvcSVPkf_YID1U5KPXDd5J?e%3Ddownload&hash=1lu6no0ltf6cq7pq3js4uciiobmbscma [following]\n",
      "--2021-04-20 08:49:28--  https://docs.google.com/nonceSigner?nonce=05gdjcgv4sthg&continue=https://doc-0k-28-docs.googleusercontent.com/docs/securesc/k3s41e5j9m84j9sldujhbltjen4r7og4/qp6fjced2k5f57fk6plqj5ruakq31vrj/1618908525000/10000090644219567406/04019969030829579991Z/1A3bZzghyP1WvcSVPkf_YID1U5KPXDd5J?e%3Ddownload&hash=1lu6no0ltf6cq7pq3js4uciiobmbscma\n",
      "Connecting to docs.google.com (docs.google.com)|142.250.97.101|:443... connected.\n",
      "HTTP request sent, awaiting response... 302 Found\n",
      "Location: https://doc-0k-28-docs.googleusercontent.com/docs/securesc/k3s41e5j9m84j9sldujhbltjen4r7og4/qp6fjced2k5f57fk6plqj5ruakq31vrj/1618908525000/10000090644219567406/04019969030829579991Z/1A3bZzghyP1WvcSVPkf_YID1U5KPXDd5J?e=download&nonce=05gdjcgv4sthg&user=04019969030829579991Z&hash=45s9k8s6lq6b60jpt6t03og9mjknsl29 [following]\n",
      "--2021-04-20 08:49:28--  https://doc-0k-28-docs.googleusercontent.com/docs/securesc/k3s41e5j9m84j9sldujhbltjen4r7og4/qp6fjced2k5f57fk6plqj5ruakq31vrj/1618908525000/10000090644219567406/04019969030829579991Z/1A3bZzghyP1WvcSVPkf_YID1U5KPXDd5J?e=download&nonce=05gdjcgv4sthg&user=04019969030829579991Z&hash=45s9k8s6lq6b60jpt6t03og9mjknsl29\n",
      "Connecting to doc-0k-28-docs.googleusercontent.com (doc-0k-28-docs.googleusercontent.com)|173.194.217.132|:443... connected.\n",
      "HTTP request sent, awaiting response... 200 OK\n",
      "Length: 1506 (1.5K) [application/x-shellscript]\n",
      "Saving to: ‘install_mecab.sh’\n",
      "\n",
      "     0K .                                                     100% 74.8M=0s\n",
      "\n",
      "2021-04-20 08:49:29 (74.8 MB/s) - ‘install_mecab.sh’ saved [1506/1506]\n",
      "\n"
     ]
    }
   ],
   "source": [
    "%%bash\n",
    "# mecab 설치 (takes a few minutes)\n",
    "wget --load-cookies /tmp/cookies.txt \"https://docs.google.com/uc?export=download&confirm=$(wget --quiet --save-cookies /tmp/cookies.txt --keep-session-cookies --no-check-certificate 'https://docs.google.com/uc?export=download&id=1A3bZzghyP1WvcSVPkf_YID1U5KPXDd5J' -O- | sed -rn 's/.*confirm=([0-9A-Za-z_]+).*/\\1\\n/p')&id=1A3bZzghyP1WvcSVPkf_YID1U5KPXDd5J\" -O install_mecab.sh && rm -rf /tmp/cookies.txt\n",
    "sudo bash ./install_mecab.sh > /dev/null 2>&1"
   ]
  },
  {
   "cell_type": "code",
   "execution_count": 1,
   "id": "miniature-humanity",
   "metadata": {
    "Collapsed": "false",
    "colab": {
     "base_uri": "https://localhost:8080/",
     "height": 939
    },
    "executionInfo": {
     "elapsed": 4260,
     "status": "ok",
     "timestamp": 1618909692680,
     "user": {
      "displayName": "JinUk Cho",
      "photoUrl": "",
      "userId": "10000090644219567406"
     },
     "user_tz": -540
    },
    "id": "Zb2EJD30vOQV",
    "outputId": "b50d77d2-317f-4561-94eb-2b8f8f683e1f"
   },
   "outputs": [
    {
     "name": "stdout",
     "output_type": "stream",
     "text": [
      "Requirement already satisfied: ktextaug==0.1.9 in /home/jucho/PythonProjects/textaug/kTextAugmentation (0.1.9)\n",
      "Requirement already satisfied: beautifulsoup4>=4.6.0 in /home/jucho/anaconda3/lib/python3.8/site-packages (from ktextaug==0.1.9) (4.9.3)\n",
      "Requirement already satisfied: googletrans==3.1.0a0 in /home/jucho/anaconda3/lib/python3.8/site-packages (from ktextaug==0.1.9) (3.1.0a0)\n",
      "Requirement already satisfied: konlpy>=0.5.2 in /home/jucho/anaconda3/lib/python3.8/site-packages (from ktextaug==0.1.9) (0.5.2)\n",
      "Requirement already satisfied: pykomoran>=0.1.5 in /home/jucho/anaconda3/lib/python3.8/site-packages (from ktextaug==0.1.9) (0.1.5)\n",
      "Requirement already satisfied: transformers>=2.6.0 in /home/jucho/PythonProjects/forked/transformers/src (from ktextaug==0.1.9) (4.3.0.dev0)\n",
      "Requirement already satisfied: soupsieve>1.2; python_version >= \"3.0\" in /home/jucho/anaconda3/lib/python3.8/site-packages (from beautifulsoup4>=4.6.0->ktextaug==0.1.9) (2.0.1)\n",
      "Requirement already satisfied: httpx==0.13.3 in /home/jucho/anaconda3/lib/python3.8/site-packages (from googletrans==3.1.0a0->ktextaug==0.1.9) (0.13.3)\n",
      "Requirement already satisfied: numpy>=1.6 in /home/jucho/anaconda3/lib/python3.8/site-packages (from konlpy>=0.5.2->ktextaug==0.1.9) (1.19.2)\n",
      "Requirement already satisfied: tweepy>=3.7.0 in /home/jucho/anaconda3/lib/python3.8/site-packages (from konlpy>=0.5.2->ktextaug==0.1.9) (3.10.0)\n",
      "Requirement already satisfied: colorama in /home/jucho/anaconda3/lib/python3.8/site-packages (from konlpy>=0.5.2->ktextaug==0.1.9) (0.4.4)\n",
      "Requirement already satisfied: JPype1>=0.7.0 in /home/jucho/anaconda3/lib/python3.8/site-packages (from konlpy>=0.5.2->ktextaug==0.1.9) (1.2.1)\n",
      "Requirement already satisfied: lxml>=4.1.0 in /home/jucho/anaconda3/lib/python3.8/site-packages (from konlpy>=0.5.2->ktextaug==0.1.9) (4.6.1)\n",
      "Requirement already satisfied: py4j==0.10.8.1 in /home/jucho/anaconda3/lib/python3.8/site-packages (from pykomoran>=0.1.5->ktextaug==0.1.9) (0.10.8.1)\n",
      "Requirement already satisfied: filelock in /home/jucho/anaconda3/lib/python3.8/site-packages (from transformers>=2.6.0->ktextaug==0.1.9) (3.0.12)\n",
      "Requirement already satisfied: packaging in /home/jucho/anaconda3/lib/python3.8/site-packages (from transformers>=2.6.0->ktextaug==0.1.9) (20.4)\n",
      "Requirement already satisfied: regex!=2019.12.17 in /home/jucho/anaconda3/lib/python3.8/site-packages (from transformers>=2.6.0->ktextaug==0.1.9) (2020.10.15)\n",
      "Requirement already satisfied: requests in /home/jucho/anaconda3/lib/python3.8/site-packages (from transformers>=2.6.0->ktextaug==0.1.9) (2.24.0)\n",
      "Requirement already satisfied: sacremoses in /home/jucho/anaconda3/lib/python3.8/site-packages (from transformers>=2.6.0->ktextaug==0.1.9) (0.0.43)\n",
      "Requirement already satisfied: tokenizers==0.9.4 in /home/jucho/anaconda3/lib/python3.8/site-packages (from transformers>=2.6.0->ktextaug==0.1.9) (0.9.4)\n",
      "Requirement already satisfied: tqdm>=4.27 in /home/jucho/anaconda3/lib/python3.8/site-packages (from transformers>=2.6.0->ktextaug==0.1.9) (4.50.2)\n",
      "Requirement already satisfied: hstspreload in /home/jucho/anaconda3/lib/python3.8/site-packages (from httpx==0.13.3->googletrans==3.1.0a0->ktextaug==0.1.9) (2020.12.22)\n",
      "Requirement already satisfied: idna==2.* in /home/jucho/anaconda3/lib/python3.8/site-packages (from httpx==0.13.3->googletrans==3.1.0a0->ktextaug==0.1.9) (2.10)\n",
      "Requirement already satisfied: sniffio in /home/jucho/anaconda3/lib/python3.8/site-packages (from httpx==0.13.3->googletrans==3.1.0a0->ktextaug==0.1.9) (1.2.0)\n",
      "Requirement already satisfied: certifi in /home/jucho/anaconda3/lib/python3.8/site-packages (from httpx==0.13.3->googletrans==3.1.0a0->ktextaug==0.1.9) (2020.6.20)\n",
      "Requirement already satisfied: rfc3986<2,>=1.3 in /home/jucho/anaconda3/lib/python3.8/site-packages (from httpx==0.13.3->googletrans==3.1.0a0->ktextaug==0.1.9) (1.4.0)\n",
      "Requirement already satisfied: chardet==3.* in /home/jucho/anaconda3/lib/python3.8/site-packages (from httpx==0.13.3->googletrans==3.1.0a0->ktextaug==0.1.9) (3.0.4)\n",
      "Requirement already satisfied: httpcore==0.9.* in /home/jucho/anaconda3/lib/python3.8/site-packages (from httpx==0.13.3->googletrans==3.1.0a0->ktextaug==0.1.9) (0.9.1)\n",
      "Requirement already satisfied: six>=1.10.0 in /home/jucho/anaconda3/lib/python3.8/site-packages (from tweepy>=3.7.0->konlpy>=0.5.2->ktextaug==0.1.9) (1.15.0)\n",
      "Requirement already satisfied: requests-oauthlib>=0.7.0 in /home/jucho/anaconda3/lib/python3.8/site-packages (from tweepy>=3.7.0->konlpy>=0.5.2->ktextaug==0.1.9) (1.3.0)\n",
      "Requirement already satisfied: pyparsing>=2.0.2 in /home/jucho/anaconda3/lib/python3.8/site-packages (from packaging->transformers>=2.6.0->ktextaug==0.1.9) (2.4.7)\n",
      "Requirement already satisfied: urllib3!=1.25.0,!=1.25.1,<1.26,>=1.21.1 in /home/jucho/anaconda3/lib/python3.8/site-packages (from requests->transformers>=2.6.0->ktextaug==0.1.9) (1.25.11)\n",
      "Requirement already satisfied: click in /home/jucho/anaconda3/lib/python3.8/site-packages (from sacremoses->transformers>=2.6.0->ktextaug==0.1.9) (7.1.2)\n",
      "Requirement already satisfied: joblib in /home/jucho/anaconda3/lib/python3.8/site-packages (from sacremoses->transformers>=2.6.0->ktextaug==0.1.9) (0.17.0)\n",
      "Requirement already satisfied: h2==3.* in /home/jucho/anaconda3/lib/python3.8/site-packages (from httpcore==0.9.*->httpx==0.13.3->googletrans==3.1.0a0->ktextaug==0.1.9) (3.2.0)\n",
      "Requirement already satisfied: h11<0.10,>=0.8 in /home/jucho/anaconda3/lib/python3.8/site-packages (from httpcore==0.9.*->httpx==0.13.3->googletrans==3.1.0a0->ktextaug==0.1.9) (0.9.0)\n",
      "Requirement already satisfied: oauthlib>=3.0.0 in /home/jucho/anaconda3/lib/python3.8/site-packages (from requests-oauthlib>=0.7.0->tweepy>=3.7.0->konlpy>=0.5.2->ktextaug==0.1.9) (3.1.0)\n",
      "Requirement already satisfied: hyperframe<6,>=5.2.0 in /home/jucho/anaconda3/lib/python3.8/site-packages (from h2==3.*->httpcore==0.9.*->httpx==0.13.3->googletrans==3.1.0a0->ktextaug==0.1.9) (5.2.0)\n",
      "Requirement already satisfied: hpack<4,>=3.0 in /home/jucho/anaconda3/lib/python3.8/site-packages (from h2==3.*->httpcore==0.9.*->httpx==0.13.3->googletrans==3.1.0a0->ktextaug==0.1.9) (3.0.0)\n"
     ]
    }
   ],
   "source": [
    "!pip install ktextaug==0.1.9"
   ]
  },
  {
   "cell_type": "markdown",
   "id": "south-karaoke",
   "metadata": {
    "Collapsed": "false",
    "id": "7XcF0zx8v2fX"
   },
   "source": [
    "### 버젼 확인"
   ]
  },
  {
   "cell_type": "code",
   "execution_count": 2,
   "id": "white-bryan",
   "metadata": {
    "Collapsed": "false",
    "colab": {
     "base_uri": "https://localhost:8080/"
    },
    "executionInfo": {
     "elapsed": 785,
     "status": "ok",
     "timestamp": 1618909700112,
     "user": {
      "displayName": "JinUk Cho",
      "photoUrl": "",
      "userId": "10000090644219567406"
     },
     "user_tz": -540
    },
    "id": "hz4AMXlxv2Xq",
    "outputId": "1b2a8866-88f5-4cc8-f4b2-6bf20bc0e022"
   },
   "outputs": [
    {
     "name": "stdout",
     "output_type": "stream",
     "text": [
      "0.1.9\n"
     ]
    }
   ],
   "source": [
    "import ktextaug\n",
    "print(ktextaug.__version__)"
   ]
  },
  {
   "cell_type": "markdown",
   "id": "arabic-psychology",
   "metadata": {
    "Collapsed": "false",
    "id": "mysterious-scottish"
   },
   "source": [
    "### TextAugmentation() 사용하기\n",
    "패키지 0.1.9 버젼부턴 기본적으로 TextAugmentation() 을 사용하여 처리하는 것을 권장합니다. multiprocessing 을 이용하여 대용량의 데이터를 빠르게 처리할 수 있도록 만들었습니다. \n"
   ]
  },
  {
   "cell_type": "code",
   "execution_count": 2,
   "id": "warming-vietnamese",
   "metadata": {
    "Collapsed": "false",
    "colab": {
     "base_uri": "https://localhost:8080/",
     "height": 100,
     "referenced_widgets": [
      "8bcdcf5d7f04449bba3752fa2a40767d",
      "5b6bf242916e408a9ceb3e32cda2d80b",
      "ffe4b798a2aa4e2fbc70ba3b2eeff83c",
      "d5b0117d01a040ea948b344ec7088daf",
      "06a55173c7e8421386a1c6baa8a75e28",
      "ce8bb1993fde44d9b621ed679786aef6",
      "4ae2781b3de241b69aaa2ab3fd3f7835",
      "7d77c35306a94bcd8350684b669935ad"
     ]
    },
    "executionInfo": {
     "elapsed": 1912,
     "status": "ok",
     "timestamp": 1618909701245,
     "user": {
      "displayName": "JinUk Cho",
      "photoUrl": "",
      "userId": "10000090644219567406"
     },
     "user_tz": -540
    },
    "id": "speaking-latin",
    "outputId": "b27c8111-1467-4120-f77f-8acb35ebc141"
   },
   "outputs": [
    {
     "name": "stdout",
     "output_type": "stream",
     "text": [
      "달리는 기차에는 중립이 없습니다. 이것이 미국 사회 운동가이자 역사가 인 하워드 진이 말하는 것입니다.\n"
     ]
    },
    {
     "data": {
      "application/vnd.jupyter.widget-view+json": {
       "model_id": "8bcdcf5d7f04449bba3752fa2a40767d",
       "version_major": 2,
       "version_minor": 0
      },
      "text/plain": [
       "HBox(children=(FloatProgress(value=0.0, max=2.0), HTML(value='')))"
      ]
     },
     "metadata": {
      "tags": []
     },
     "output_type": "display_data"
    },
    {
     "name": "stdout",
     "output_type": "stream",
     "text": [
      "\n",
      "['프로그램 개발이 완료되면 서비스가 진행됩니다.', '도움말을 보려면 --help를 입력하십시오.']\n"
     ]
    }
   ],
   "source": [
    "from ktextaug import TextAugmentation\n",
    "\n",
    "sample_text = '달리는 기차 위에 중립은 없다. 미국의 사회 운동가이자 역사학자인 하워드 진이 남긴 격언이다.'\n",
    "sample_texts = ['프로그램 개발이 끝나고 서비스가 진행된다.', '도움말을 보고 싶다면 --help를 입력하면 된다.']\n",
    "agent = TextAugmentation(tokenizer=\"mecab\",\n",
    "                        num_processes=1) # num_process 가 -1 일시 자동으로 가능한 process의 절반으로 할당\n",
    "print(agent.generate(sample_text))     # default is back_translation\n",
    "print(agent.generate(sample_texts))"
   ]
  },
  {
   "cell_type": "markdown",
   "id": "acoustic-leadership",
   "metadata": {
    "Collapsed": "false",
    "id": "everyday-invention"
   },
   "source": [
    "### 직접 import 해서 사용하기\n",
    "0.1.8 에서 사용하던 대로 직접 원하는 기능을 import 할 수 있습니다.\n",
    "\n",
    "현재 불러올 수 있는 함수는 다음과 같습니다. \n",
    "\"back_translate\",\n",
    "\"noise_add\",\n",
    "\"random_insert\",\n",
    "\"random_delete\",\n",
    "\"random_swap\",\n",
    "\"synonym_replace\","
   ]
  },
  {
   "cell_type": "code",
   "execution_count": null,
   "id": "sunset-portuguese",
   "metadata": {
    "Collapsed": "false",
    "id": "intense-forwarding"
   },
   "outputs": [],
   "source": [
    "from ktextaug import random_swap\n",
    "from random import Random\n",
    "\n",
    "text = \"이 문장은 변형적 데이터 증강기법의 예시 문장입니다.\"\n",
    "tokenizer = bring_it_your_own   # 토크나이저는 어떤 토크나이저를 사용하더라도 상관없습니다.\n",
    "\n",
    "result = random_swap(text_or_tokens=text,\n",
    "                     tokenize_fn=tokenizer.tokenize, \n",
    "                     rng=Random(2021), # seed\n",
    "                     n_swaps=2) # random_swap 고유 파라메터. 토큰 시퀀스 내 두 단어의 위치를 변경하는 작업(random swap)을 2회 시행합니다. \n",
    "print(result)\n",
    "# ['이', '문장', '은', '예시', '적', '데이터', '기법', '증강', '의', '문장', '변형', '입니다', '.']"
   ]
  },
  {
   "cell_type": "markdown",
   "id": "owned-lecture",
   "metadata": {
    "Collapsed": "false",
    "id": "applicable-walnut"
   },
   "source": [
    "### tokenizer\n",
    "\n",
    "ktextaug 패키지에서 제공하는 형태소 분석기(토크나이저) 모듈은 다양한 존재하는 토크나이저를 쉽게 사용할 수있도록 만들었습니다. 설치가 필요없는 기본 토크나이저로서 또는 subword tokenizer 을 만들어두었습니다. mecab, komoran 토크나이저의 경우 별도의 설치과정이 필요합니다. 원하는 토크나이저를 사용할 수도 있습니다.\n",
    "(subword 경우 노이즈와 관련된 vocab을 구축해놓았기 때문에 다른 토크나이저에 비해 noise_add에서 훨씬 강건합니다.)"
   ]
  },
  {
   "cell_type": "code",
   "execution_count": 3,
   "id": "north-advocacy",
   "metadata": {
    "Collapsed": "false",
    "colab": {
     "base_uri": "https://localhost:8080/"
    },
    "executionInfo": {
     "elapsed": 1295,
     "status": "ok",
     "timestamp": 1618910063278,
     "user": {
      "displayName": "JinUk Cho",
      "photoUrl": "",
      "userId": "10000090644219567406"
     },
     "user_tz": -540
    },
    "id": "rhH3nIIXMkYc",
    "outputId": "5a9c750a-01d8-4f73-b8c3-cf076298c7d0"
   },
   "outputs": [
    {
     "name": "stderr",
     "output_type": "stream",
     "text": [
      "None of PyTorch, TensorFlow >= 2.0, or Flax have been found. Models won't be available and only tokenizers, configuration and file/data utilities can be used.\n"
     ]
    },
    {
     "name": "stdout",
     "output_type": "stream",
     "text": [
      "<class 'ktextaug.tokenization_utils.Tokenizer'>\n",
      "['고래상어', '는', '어류', '중', '가장', '덩치', '가', '큽니다', '.', '하지만', '상어', '라는', '이름', '에', '걸맞', '지', '않', '게', '온순', '해서', '사람', '이', '가까이', '접근', '해', '헤엄쳐', '도', '경계', '하', '지', '않', '고', ',', '이빨', '크기', '도', '3', 'mm', '안팎', '이', '라고', '합니다', '.']\n",
      "['고래', '##상', '##어는', '어', '##류', '중', '가장', '덩치', '##가', '큽', '##니다', '.', '하지만', '상', '##어', '##라는', '이름에', '걸맞', '##지', '않게', '온', '##순', '##해서', '사람이', '가까이', '접근', '##해', '헤', '##엄', '##쳐', '##도', '경계', '##하지', '않고', ',', '이빨', '크기', '##도', '3', '##mm', '안', '##팎', '##이라고', '합니다', '.']\n",
      "고래상어는 어류 중 가장 덩치가 큽니다 . 하지만 상어라는 이름에 걸맞도 않게 온순해서 사람이 가까이 접근해 헤엄쳐도 경계하지 않고 , 이빨 크기mm 3지 안팎이라고 합니다 .\n",
      "고래상어는 어류 중 가장 덩치가 큽니다 . 하지만 상어 접근 이름에 걸맞지 않게 온순해서 사람이 가까이 안해 헤엄쳐도 경계하지 않고 , 이빨 크기도 3mm라는팎이라고 합니다 .\n"
     ]
    }
   ],
   "source": [
    "from ktextaug import TextAugmentation, random_swap\n",
    "from ktextaug.tokenization_utils import Tokenizer\n",
    "from random import Random\n",
    "\n",
    "text =\"고래상어는 어류 중 가장 덩치가 큽니다. 하지만 상어라는 이름에 걸맞지 않게 온순해서 사람이 가까이 접근해 헤엄쳐도 경계하지 않고, 이빨 크기도 3mm 안팎이라고 합니다.\"\n",
    "# get_tokenize_fn 함수의 사용예시\n",
    "tokenizer = Tokenizer(\"mecab\")\n",
    "print(type(tokenizer))\n",
    "print(tokenizer.tokenize(text))\n",
    "# tokenize_fn = Tokenizer(\"komoran\")\n",
    "# print(tokenizer.tokenize(text))\n",
    "tokenizer = Tokenizer(\"subword\")\n",
    "print(tokenizer.tokenize(text))\n",
    "\n",
    "# 이러한 <class 'function'> 또는 <class 'method'> 형태의 함수들은 패키지 내 함수나 TextAugmentation 클래스에 사용됩니다.\n",
    "\n",
    "agent = TextAugmentation(tokenizer=tokenizer,\n",
    "#                         tokenize_fn=\"mecab\",\n",
    "                        num_processes=1)\n",
    "print(agent.generate(text,\n",
    "                     mode=\"random_swap\",\n",
    "                     n_swaps=2))   \n",
    "\n",
    "print(random_swap(text_or_tokens=text,\n",
    "                     tokenizer=tokenizer,\n",
    "                     rng=Random(2021),\n",
    "                     n_swaps=2))"
   ]
  },
  {
   "cell_type": "markdown",
   "id": "russian-occupation",
   "metadata": {
    "Collapsed": "false",
    "id": "GotMSgIxVZNj"
   },
   "source": []
  },
  {
   "cell_type": "code",
   "execution_count": 5,
   "id": "tough-louisiana",
   "metadata": {
    "Collapsed": "false",
    "colab": {
     "base_uri": "https://localhost:8080/"
    },
    "executionInfo": {
     "elapsed": 44530,
     "status": "ok",
     "timestamp": 1618909754250,
     "user": {
      "displayName": "JinUk Cho",
      "photoUrl": "",
      "userId": "10000090644219567406"
     },
     "user_tz": -540
    },
    "id": "IiajvlWRQIZ5",
    "outputId": "a9a269b8-41b8-4793-8861-97afd5b25da8"
   },
   "outputs": [
    {
     "name": "stdout",
     "output_type": "stream",
     "text": [
      "고래상어는 어류 중 가장 덩치가 큽니다 . 하지만 상어라는 이름에 걸맞지 않게 온순해서 사람이 가까이 접근해 헤엄쳐도 size 경계 덩치하지 않고 , 이빨 크기도 3mm 안팎이라고 합니다 .\n",
      "고래상어는 어류 중 가장 덩치가 큽니다 . 하지만 상어라는 높이 이름에 걸맞지 않게 온순해서 사람이 가까이 접근해 헤엄쳐도 경계하지 teeth 않고 , 이빨 크기도 3mm 안팎이라고 합니다 .\n"
     ]
    }
   ],
   "source": [
    "from ktextaug import random_insert, random_delete, back_translate\n",
    "print(agent.generate(text,\n",
    "                     mode=\"random_insert\",\n",
    "                     n_inserts=2))   \n",
    "\n",
    "print(random_insert(text_or_tokens=text,\n",
    "                     tokenizer=tokenizer, \n",
    "                     rng=Random(2021),\n",
    "                     n_inserts=2))"
   ]
  },
  {
   "cell_type": "code",
   "execution_count": 5,
   "id": "white-edinburgh",
   "metadata": {
    "Collapsed": "false",
    "colab": {
     "base_uri": "https://localhost:8080/"
    },
    "executionInfo": {
     "elapsed": 609,
     "status": "ok",
     "timestamp": 1618909471107,
     "user": {
      "displayName": "JinUk Cho",
      "photoUrl": "",
      "userId": "10000090644219567406"
     },
     "user_tz": -540
    },
    "id": "dROcbUzkSd5l",
    "outputId": "52d2ad01-71ad-48ef-dc05-17ca9473648f"
   },
   "outputs": [
    {
     "name": "stdout",
     "output_type": "stream",
     "text": [
      "고래상어는 어류 중 가장 덩치가 큽니다 하지만 상어라는 이름에 걸맞지 온순해서 사람이 가까이 접근해 헤엄쳐도 경계하지 이빨 크기 3mm 안팎이라고 합니다\n",
      "고래상어는 어류 중 가장 덩치가 큽니다 하지만 상어라는 걸맞지 않게 온순해서 사람이 가까이 접근해 헤엄쳐도 경계하지 않고 이빨 크기 3mm 안팎이라고 합니다\n"
     ]
    }
   ],
   "source": [
    "print(agent.generate(text,\n",
    "                     mode=\"random_delete\",\n",
    "                     prob=0.1))   \n",
    "\n",
    "print(random_delete(text_or_tokens=text,\n",
    "                     tokenizer=tokenizer,\n",
    "                     rng=Random(2021),\n",
    "                     prob=0.1))"
   ]
  },
  {
   "cell_type": "code",
   "execution_count": 6,
   "id": "republican-confirmation",
   "metadata": {
    "Collapsed": "false",
    "colab": {
     "base_uri": "https://localhost:8080/"
    },
    "executionInfo": {
     "elapsed": 1590,
     "status": "ok",
     "timestamp": 1618909475294,
     "user": {
      "displayName": "JinUk Cho",
      "photoUrl": "",
      "userId": "10000090644219567406"
     },
     "user_tz": -540
    },
    "id": "ID9BzhQWS7O3",
    "outputId": "9c20c586-e24c-4518-e420-bf93409353d3"
   },
   "outputs": [
    {
     "name": "stdout",
     "output_type": "stream",
     "text": [
      "고래 상어는 어류 중 가장 규모가 큽니다. 그러나 상어라는 이름에 걸맞게 않게 길들여 사람이 접근 수영 리노베이션 경계 않고 치아의 크기도 3mm 전후합니다.\n",
      "고래 상어는 모든 물고기 중에서 가장 큽니다. 그러나 유순하고 상어의 이름에 걸맞지 않기 때문에 사람이 다가와 헤엄 쳐도 의심스럽지 않고 이빨이 3mm 정도라고한다.\n"
     ]
    }
   ],
   "source": [
    "print(agent.generate(text,\n",
    "                     mode=\"back_translate\",\n",
    "                     target_language='ja'))   \n",
    "\n",
    "print(back_translate(text_or_corpus=text,\n",
    "                     target_language='fr'))"
   ]
  },
  {
   "cell_type": "markdown",
   "id": "comfortable-republic",
   "metadata": {
    "Collapsed": "false",
    "id": "fresh-mouth"
   },
   "source": [
    "### noise_generation 모듈 사용법\n",
    "\n",
    "노이즈 생성은 @hkjeon13(전현규) 의 노이즈 생성을 따랐습니다\n",
    "\n",
    "https://github.com/hkjeon13/noising-korean\n",
    "\n",
    "노이즈를 생성하는 방법은 총 3가지가 구현되어 있습니다.\n",
    "\n",
    "\"jamo_split\": 자모 분리(alphabet separation)에 의한 노이즈 추가 방법. 글자의 자음과 모음을 분리합니다. 단, 가독성을 위해 종성이 없으며 중성이  'ㅘ', 'ㅙ', 'ㅚ', 'ㅛ', 'ㅜ', 'ㅝ', 'ㅞ', 'ㅟ', 'ㅠ', 'ㅡ', 'ㅢ', 'ㅗ' 가 아닐 경우 실행합니다(예: 안녕하세요 > 안녕ㅎㅏㅅㅔ요)\n",
    "\n",
    "\"vowel_change\": 모음 변형에 의한 노이즈 추가 방법. 글자의 모음을 변형시킵니다. 단, 가독성을 위해 종성이 없으며 중성이 'ㅏ', 'ㅑ', 'ㅓ', 'ㅕ', 'ㅗ', 'ㅛ', 'ㅜ', 'ㅠ' 일 경우 실행합니다(예: 안녕하세요 > 안녕햐세오).\n",
    "\n",
    "\"phonological_change\": 음운변화에 의한 노이즈 추가 방법. 발음을 바탕으로 단어를 변형시킵니다(너무 닮았다 > 너무 달맜다)."
   ]
  },
  {
   "cell_type": "code",
   "execution_count": 9,
   "id": "coordinated-former",
   "metadata": {
    "Collapsed": "false",
    "colab": {
     "base_uri": "https://localhost:8080/"
    },
    "executionInfo": {
     "elapsed": 654,
     "status": "ok",
     "timestamp": 1618909820949,
     "user": {
      "displayName": "JinUk Cho",
      "photoUrl": "",
      "userId": "10000090644219567406"
     },
     "user_tz": -540
    },
    "id": "protected-heritage",
    "outputId": "5fe1b27c-9744-4346-edff-f473181eb905"
   },
   "outputs": [
    {
     "name": "stdout",
     "output_type": "stream",
     "text": [
      "행복한 가정은 모두갸 닮았지만, 불행한 가정은 모듀 져먀다의 이우로 불행햐다.\n"
     ]
    }
   ],
   "source": [
    "from ktextaug import TextAugmentation\n",
    "from ktextaug import noise_add # function\n",
    "\n",
    "text = '행복한 가정은 모두가 닮았지만, 불행한 가정은 모두 저마다의 이유로 불행하다.'\n",
    "agent = TextAugmentation(tokenizer=\"mecab\",\n",
    "                        num_processes=1) \n",
    "print(agent.generate(text,\n",
    "                     mode=\"noise_add\",\n",
    "                     prob=0.4,\n",
    "                     noise_mode=['phonological_change', 'vowel_change', 'jamo_split']))   \n",
    "# >> 행복한 ㄱㅏ정은 모두ㄱㅏ 닮았ㅈㅣ만, 불행한 ㄱㅏ정은 모두 ㅈㅓㅁㅏㄷㅏ의 ㅇㅣ유로 불행ㅎㅏㄷㅏ."
   ]
  },
  {
   "cell_type": "markdown",
   "id": "radical-bullet",
   "metadata": {
    "Collapsed": "false",
    "id": "psychological-colombia"
   },
   "source": [
    "\n",
    "\n",
    "**노이즈 생성의 변형 예시**\n",
    "\n",
    "```python\n",
    "text = '행복한 가정은 모두가 닮았지만, 불행한 가정은 모두 저마다의 이유로 불행하다.'\n",
    "[original]  행복한 가정은 모두가 닮았지만, 불행한 가정은 모두 저마다의 이유로 불행하다.\n",
    "\n",
    "[jamo_split, prob=1] 행복한 ㄱㅏ정은 모두ㄱㅏ 닮았ㅈㅣ만, 불행한 ㄱㅏ정은 모두 ㅈㅓㅁㅏㄷㅏ의 ㅇㅣ유로 불행ㅎㅏㄷㅏ.\n",
    "\n",
    "[vowel_change, prob=1] 행복한 갸정은 묘듀갸 닮았지만, 불행한 갸정은 묘듀 져먀댜의 이우료 불행햐댜.\n",
    "\n",
    "[phonological_change, prob=1] 행복한 가정은 모두가 달맜지만, 불행한 가정은 모두 저마다의 이유로 불행하다.\n",
    "```\n",
    "\n",
    "#### 기타\n",
    "\n",
    "- 'phonological_change' 방법은 현재 비음화, 유음화, 구개음화, 연음 등을 구현하고 있으며, 추후 확대될 예정입니다(누락된 규칙이 있을 수 있으니, 발견 시 피드백 주시면 감사하겠습니다).\n",
    "- prob는 변형 가능한 글자들에 대해서 해당 확률만큼 확률적으로 실행됩니다(prob가 1이라고 해서 모든 텍스트가 변경되는 것이 아닙니다)."
   ]
  },
  {
   "cell_type": "code",
   "execution_count": null,
   "id": "falling-charles",
   "metadata": {
    "Collapsed": "false",
    "id": "visible-nursery"
   },
   "outputs": [],
   "source": []
  }
 ],
 "metadata": {
  "colab": {
   "collapsed_sections": [],
   "name": "How_to_use.ipynb",
   "provenance": []
  },
  "kernelspec": {
   "display_name": "Python 3",
   "language": "python",
   "name": "python3"
  },
  "language_info": {
   "codemirror_mode": {
    "name": "ipython",
    "version": 3
   },
   "file_extension": ".py",
   "mimetype": "text/x-python",
   "name": "python",
   "nbconvert_exporter": "python",
   "pygments_lexer": "ipython3",
   "version": "3.8.5"
  },
  "widgets": {
   "application/vnd.jupyter.widget-state+json": {
    "06a55173c7e8421386a1c6baa8a75e28": {
     "model_module": "@jupyter-widgets/controls",
     "model_name": "ProgressStyleModel",
     "state": {
      "_model_module": "@jupyter-widgets/controls",
      "_model_module_version": "1.5.0",
      "_model_name": "ProgressStyleModel",
      "_view_count": null,
      "_view_module": "@jupyter-widgets/base",
      "_view_module_version": "1.2.0",
      "_view_name": "StyleView",
      "bar_color": null,
      "description_width": "initial"
     }
    },
    "4ae2781b3de241b69aaa2ab3fd3f7835": {
     "model_module": "@jupyter-widgets/controls",
     "model_name": "DescriptionStyleModel",
     "state": {
      "_model_module": "@jupyter-widgets/controls",
      "_model_module_version": "1.5.0",
      "_model_name": "DescriptionStyleModel",
      "_view_count": null,
      "_view_module": "@jupyter-widgets/base",
      "_view_module_version": "1.2.0",
      "_view_name": "StyleView",
      "description_width": ""
     }
    },
    "5b6bf242916e408a9ceb3e32cda2d80b": {
     "model_module": "@jupyter-widgets/base",
     "model_name": "LayoutModel",
     "state": {
      "_model_module": "@jupyter-widgets/base",
      "_model_module_version": "1.2.0",
      "_model_name": "LayoutModel",
      "_view_count": null,
      "_view_module": "@jupyter-widgets/base",
      "_view_module_version": "1.2.0",
      "_view_name": "LayoutView",
      "align_content": null,
      "align_items": null,
      "align_self": null,
      "border": null,
      "bottom": null,
      "display": null,
      "flex": null,
      "flex_flow": null,
      "grid_area": null,
      "grid_auto_columns": null,
      "grid_auto_flow": null,
      "grid_auto_rows": null,
      "grid_column": null,
      "grid_gap": null,
      "grid_row": null,
      "grid_template_areas": null,
      "grid_template_columns": null,
      "grid_template_rows": null,
      "height": null,
      "justify_content": null,
      "justify_items": null,
      "left": null,
      "margin": null,
      "max_height": null,
      "max_width": null,
      "min_height": null,
      "min_width": null,
      "object_fit": null,
      "object_position": null,
      "order": null,
      "overflow": null,
      "overflow_x": null,
      "overflow_y": null,
      "padding": null,
      "right": null,
      "top": null,
      "visibility": null,
      "width": null
     }
    },
    "7d77c35306a94bcd8350684b669935ad": {
     "model_module": "@jupyter-widgets/base",
     "model_name": "LayoutModel",
     "state": {
      "_model_module": "@jupyter-widgets/base",
      "_model_module_version": "1.2.0",
      "_model_name": "LayoutModel",
      "_view_count": null,
      "_view_module": "@jupyter-widgets/base",
      "_view_module_version": "1.2.0",
      "_view_name": "LayoutView",
      "align_content": null,
      "align_items": null,
      "align_self": null,
      "border": null,
      "bottom": null,
      "display": null,
      "flex": null,
      "flex_flow": null,
      "grid_area": null,
      "grid_auto_columns": null,
      "grid_auto_flow": null,
      "grid_auto_rows": null,
      "grid_column": null,
      "grid_gap": null,
      "grid_row": null,
      "grid_template_areas": null,
      "grid_template_columns": null,
      "grid_template_rows": null,
      "height": null,
      "justify_content": null,
      "justify_items": null,
      "left": null,
      "margin": null,
      "max_height": null,
      "max_width": null,
      "min_height": null,
      "min_width": null,
      "object_fit": null,
      "object_position": null,
      "order": null,
      "overflow": null,
      "overflow_x": null,
      "overflow_y": null,
      "padding": null,
      "right": null,
      "top": null,
      "visibility": null,
      "width": null
     }
    },
    "8bcdcf5d7f04449bba3752fa2a40767d": {
     "model_module": "@jupyter-widgets/controls",
     "model_name": "HBoxModel",
     "state": {
      "_dom_classes": [],
      "_model_module": "@jupyter-widgets/controls",
      "_model_module_version": "1.5.0",
      "_model_name": "HBoxModel",
      "_view_count": null,
      "_view_module": "@jupyter-widgets/controls",
      "_view_module_version": "1.5.0",
      "_view_name": "HBoxView",
      "box_style": "",
      "children": [
       "IPY_MODEL_ffe4b798a2aa4e2fbc70ba3b2eeff83c",
       "IPY_MODEL_d5b0117d01a040ea948b344ec7088daf"
      ],
      "layout": "IPY_MODEL_5b6bf242916e408a9ceb3e32cda2d80b"
     }
    },
    "ce8bb1993fde44d9b621ed679786aef6": {
     "model_module": "@jupyter-widgets/base",
     "model_name": "LayoutModel",
     "state": {
      "_model_module": "@jupyter-widgets/base",
      "_model_module_version": "1.2.0",
      "_model_name": "LayoutModel",
      "_view_count": null,
      "_view_module": "@jupyter-widgets/base",
      "_view_module_version": "1.2.0",
      "_view_name": "LayoutView",
      "align_content": null,
      "align_items": null,
      "align_self": null,
      "border": null,
      "bottom": null,
      "display": null,
      "flex": null,
      "flex_flow": null,
      "grid_area": null,
      "grid_auto_columns": null,
      "grid_auto_flow": null,
      "grid_auto_rows": null,
      "grid_column": null,
      "grid_gap": null,
      "grid_row": null,
      "grid_template_areas": null,
      "grid_template_columns": null,
      "grid_template_rows": null,
      "height": null,
      "justify_content": null,
      "justify_items": null,
      "left": null,
      "margin": null,
      "max_height": null,
      "max_width": null,
      "min_height": null,
      "min_width": null,
      "object_fit": null,
      "object_position": null,
      "order": null,
      "overflow": null,
      "overflow_x": null,
      "overflow_y": null,
      "padding": null,
      "right": null,
      "top": null,
      "visibility": null,
      "width": null
     }
    },
    "d5b0117d01a040ea948b344ec7088daf": {
     "model_module": "@jupyter-widgets/controls",
     "model_name": "HTMLModel",
     "state": {
      "_dom_classes": [],
      "_model_module": "@jupyter-widgets/controls",
      "_model_module_version": "1.5.0",
      "_model_name": "HTMLModel",
      "_view_count": null,
      "_view_module": "@jupyter-widgets/controls",
      "_view_module_version": "1.5.0",
      "_view_name": "HTMLView",
      "description": "",
      "description_tooltip": null,
      "layout": "IPY_MODEL_7d77c35306a94bcd8350684b669935ad",
      "placeholder": "​",
      "style": "IPY_MODEL_4ae2781b3de241b69aaa2ab3fd3f7835",
      "value": " 2/2 [00:05&lt;00:00,  2.61s/it]"
     }
    },
    "ffe4b798a2aa4e2fbc70ba3b2eeff83c": {
     "model_module": "@jupyter-widgets/controls",
     "model_name": "FloatProgressModel",
     "state": {
      "_dom_classes": [],
      "_model_module": "@jupyter-widgets/controls",
      "_model_module_version": "1.5.0",
      "_model_name": "FloatProgressModel",
      "_view_count": null,
      "_view_module": "@jupyter-widgets/controls",
      "_view_module_version": "1.5.0",
      "_view_name": "ProgressView",
      "bar_style": "success",
      "description": "100%",
      "description_tooltip": null,
      "layout": "IPY_MODEL_ce8bb1993fde44d9b621ed679786aef6",
      "max": 2,
      "min": 0,
      "orientation": "horizontal",
      "style": "IPY_MODEL_06a55173c7e8421386a1c6baa8a75e28",
      "value": 2
     }
    }
   }
  }
 },
 "nbformat": 4,
 "nbformat_minor": 5
}
